{
 "cells": [
  {
   "cell_type": "code",
   "execution_count": 91,
   "metadata": {},
   "outputs": [],
   "source": [
    "# implementation of a vector class for linear algerbra refresher\n",
    "from math import acos, degrees\n",
    "\n",
    "class Vector(object):\n",
    "    def __init__(self, coordinates):\n",
    "        try:\n",
    "            if not coordinates:\n",
    "                raise ValueError\n",
    "            self.coordinates = tuple(coordinates)\n",
    "            self.dimension = len(coordinates)\n",
    "        \n",
    "        except ValueError:\n",
    "            raise ValueError('The coordinates must be nonempty')\n",
    "        \n",
    "        except TypeError:\n",
    "            raise TypeError('The coordinates must be an iterable')\n",
    "\n",
    "    def __str__(self):\n",
    "        return 'Vector: {}'.format(self.coordinates)\n",
    "    \n",
    "    def __eq__(self, other):\n",
    "        return self.coordinates == other.coordinates\n",
    "    \n",
    "    def __add__(self, other):\n",
    "        return Vector(map(lambda x,y: x+y, self.coordinates, other.coordinates))\n",
    "    \n",
    "    def __sub__(self, other):\n",
    "        return Vector(map(lambda x,y: x-y, self.coordinates, other.coordinates))\n",
    "    \n",
    "    def __mul__(self, other):\n",
    "        ''' default multiplacation behavior is dot product '''\n",
    "        return Vector.dot(self, other)\n",
    "#        return reduce(lambda x,y: x+y, map(lambda x,y: x*y, self.coordinates, other.coordinates))\n",
    "    \n",
    "    def __rmul__(self, scalar):\n",
    "        ''' when multiplacation is not b/t vectors treat as scalar '''\n",
    "        return Vector(map(lambda x: x*scalar, self.coordinates))\n",
    "\n",
    "    def magnitude(self):\n",
    "        return (reduce(lambda x,y: x+y, map(lambda x: x**2, self.coordinates)))**0.5\n",
    "\n",
    "    def normalized(self):\n",
    "        try:\n",
    "            return (1/self.magnitude())*self\n",
    "        except ZeroDivisionError:\n",
    "            raise Exception('Cannot normalize the zero vector')\n",
    "            \n",
    "    @staticmethod\n",
    "    def dot(vector1, vector2):\n",
    "        return reduce(lambda x,y: x+y, map(lambda x,y: x*y, vector1.coordinates, vector2.coordinates))\n",
    "\n",
    "    # angle between vectors in static and instance methods\n",
    "    @staticmethod\n",
    "    def __find_angle(vector1, vector2, radians = True):\n",
    "        ''' private method to find angle between two vectors'''\n",
    "        try:\n",
    "            angle = acos(vector1*vector2/(vector1.magnitude() * vector2.magnitude()))\n",
    "        except ZeroDivisionError:\n",
    "            raise Exception('Cannot use a vector with magnitude zero')\n",
    "        if radians:\n",
    "            return angle\n",
    "        else:\n",
    "            return degrees(angle)    \n",
    "    @staticmethod\n",
    "    def angle_between(vector1, vector2, radians = True):\n",
    "        ''' static method that can be called with Vector.angle(instance_1, instance_2) '''\n",
    "        return Vector.__find_angle(vector1, vector2, radians)\n",
    "    \n",
    "    def angle_with(self, other, radians = True):\n",
    "        ''' instance method that is called with instance_name.angle(other_instance) '''\n",
    "        return Vector.__find_angle(self, other, radians)"
   ]
  },
  {
   "cell_type": "markdown",
   "metadata": {},
   "source": [
    "## Coding Magnitude & Direction"
   ]
  },
  {
   "cell_type": "code",
   "execution_count": 13,
   "metadata": {},
   "outputs": [
    {
     "name": "stdout",
     "output_type": "stream",
     "text": [
      "7.44028292473\n",
      "Vector: (-0.029703171537401894, 0.9995587634554657)\n"
     ]
    }
   ],
   "source": [
    "vector1 = Vector([-0.221,7.437])\n",
    "print vector1.magnitude()\n",
    "print vector1.unit_vector()"
   ]
  },
  {
   "cell_type": "code",
   "execution_count": 15,
   "metadata": {},
   "outputs": [
    {
     "data": {
      "text/plain": [
       "10.884187567292289"
      ]
     },
     "execution_count": 15,
     "metadata": {},
     "output_type": "execute_result"
    }
   ],
   "source": [
    "vector2 = Vector([8.813,-1.331,-6.247])\n",
    "vector2.magnitude()"
   ]
  },
  {
   "cell_type": "code",
   "execution_count": 24,
   "metadata": {},
   "outputs": [
    {
     "name": "stdout",
     "output_type": "stream",
     "text": [
      "Vector: (0.9339352140866403, -0.35744232526233)\n"
     ]
    }
   ],
   "source": [
    "vector3 = Vector([5.581,-2.136])\n",
    "print vector3.unit_vector()"
   ]
  },
  {
   "cell_type": "code",
   "execution_count": 32,
   "metadata": {},
   "outputs": [
    {
     "name": "stdout",
     "output_type": "stream",
     "text": [
      "Vector: (0.3404012959433014, 0.5300437012984873, -0.7766470449528029)\n"
     ]
    }
   ],
   "source": [
    "vector4 = Vector([1.996,3.108,-4.554])\n",
    "print vector4.normalized()"
   ]
  },
  {
   "cell_type": "markdown",
   "metadata": {},
   "source": [
    "## Coding Dot Product and Angle"
   ]
  },
  {
   "cell_type": "code",
   "execution_count": 37,
   "metadata": {
    "collapsed": true
   },
   "outputs": [],
   "source": [
    "problem1_v = Vector([7.887,4.138])\n",
    "problem1_w = Vector([-8.802,6.776])"
   ]
  },
  {
   "cell_type": "code",
   "execution_count": 82,
   "metadata": {},
   "outputs": [
    {
     "data": {
      "text/plain": [
       "-41.382286"
      ]
     },
     "execution_count": 82,
     "metadata": {},
     "output_type": "execute_result"
    }
   ],
   "source": [
    "Vector.dot(problem1_v,problem1_w)"
   ]
  },
  {
   "cell_type": "code",
   "execution_count": 92,
   "metadata": {},
   "outputs": [
    {
     "data": {
      "text/plain": [
       "-41.382286"
      ]
     },
     "execution_count": 92,
     "metadata": {},
     "output_type": "execute_result"
    }
   ],
   "source": [
    "problem1_v*problem1_w"
   ]
  },
  {
   "cell_type": "code",
   "execution_count": 42,
   "metadata": {
    "collapsed": true
   },
   "outputs": [],
   "source": [
    "problem2_v = Vector([-5.955, -4.904, -1.874])\n",
    "problem2_w = Vector([-4.496, -8.755, 7.103])"
   ]
  },
  {
   "cell_type": "code",
   "execution_count": 43,
   "metadata": {},
   "outputs": [
    {
     "data": {
      "text/plain": [
       "56.397178000000004"
      ]
     },
     "execution_count": 43,
     "metadata": {},
     "output_type": "execute_result"
    }
   ],
   "source": [
    "problem2_v*problem2_w"
   ]
  },
  {
   "cell_type": "code",
   "execution_count": 85,
   "metadata": {
    "collapsed": true
   },
   "outputs": [],
   "source": [
    "problem3_v = Vector([3.183,-7.627])\n",
    "problem3_w = Vector([-2.668,5.319])"
   ]
  },
  {
   "cell_type": "code",
   "execution_count": 78,
   "metadata": {},
   "outputs": [
    {
     "data": {
      "text/plain": [
       "3.0720263098372476"
      ]
     },
     "execution_count": 78,
     "metadata": {},
     "output_type": "execute_result"
    }
   ],
   "source": [
    "Vector.angle_between(problem3_v, problem3_w)"
   ]
  },
  {
   "cell_type": "code",
   "execution_count": 86,
   "metadata": {},
   "outputs": [
    {
     "data": {
      "text/plain": [
       "3.0720263098372476"
      ]
     },
     "execution_count": 86,
     "metadata": {},
     "output_type": "execute_result"
    }
   ],
   "source": [
    "problem3_v.angle_with(problem3_w)"
   ]
  },
  {
   "cell_type": "code",
   "execution_count": 88,
   "metadata": {
    "collapsed": true
   },
   "outputs": [],
   "source": [
    "problem4_v = Vector([7.35, 0.221, 5.188])\n",
    "problem4_w = Vector([2.751,8.259,3.985])"
   ]
  },
  {
   "cell_type": "code",
   "execution_count": 89,
   "metadata": {},
   "outputs": [
    {
     "data": {
      "text/plain": [
       "60.27581120523091"
      ]
     },
     "execution_count": 89,
     "metadata": {},
     "output_type": "execute_result"
    }
   ],
   "source": [
    "Vector.angle_between(problem4_v, problem4_w, radians = False)"
   ]
  },
  {
   "cell_type": "code",
   "execution_count": 90,
   "metadata": {},
   "outputs": [
    {
     "data": {
      "text/plain": [
       "1.0520113648417708"
      ]
     },
     "execution_count": 90,
     "metadata": {},
     "output_type": "execute_result"
    }
   ],
   "source": [
    "problem4_v.angle_with(problem4_w)"
   ]
  },
  {
   "cell_type": "code",
   "execution_count": null,
   "metadata": {
    "collapsed": true
   },
   "outputs": [],
   "source": []
  }
 ],
 "metadata": {
  "kernelspec": {
   "display_name": "Python 2",
   "language": "python",
   "name": "python2"
  },
  "language_info": {
   "codemirror_mode": {
    "name": "ipython",
    "version": 2
   },
   "file_extension": ".py",
   "mimetype": "text/x-python",
   "name": "python",
   "nbconvert_exporter": "python",
   "pygments_lexer": "ipython2",
   "version": "2.7.13"
  }
 },
 "nbformat": 4,
 "nbformat_minor": 2
}
